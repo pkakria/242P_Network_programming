{
 "cells": [
  {
   "cell_type": "code",
   "execution_count": 2,
   "metadata": {},
   "outputs": [
    {
     "name": "stdout",
     "output_type": "stream",
     "text": [
      "Main thread is  4478496192\n",
      "This is thread  123145480626176  updating global counter\n",
      "This is thread  123145497415680  updating global counter\n",
      "This is thread  123145514205184  updating global counter\n",
      "This is thread  123145480626176  updating global counter\n",
      "stone-183\n",
      "one-166\n",
      "diamond-102\n",
      "stones-100\n",
      "more-98\n",
      "out-89\n",
      "___-78\n",
      "such-71\n",
      "cut-71\n",
      "diamonds-70\n",
      "new-69\n",
      "now-69\n",
      "even-69\n",
      "time-63\n",
      "over-61\n",
      "people-60\n",
      "very-59\n",
      "color-59\n",
      "cdc-56\n",
      "make-50\n",
      "computer-49\n",
      "take-49\n",
      "xxxxxxxxxxxxxxxxxxxxxxxxxxxxxxxxxxxxxxxxxxxxxxxxxxxxxxxxxxxxxxxxxxxxxxxxxxxxxxx-49\n",
      "don-48\n",
      "carat-48\n",
      "government-45\n",
      "emeralds-43\n",
      "well-42\n",
      "know-40\n",
      "those-40\n",
      "see-40\n",
      "number-40\n",
      "name-40\n",
      "file-40\n",
      "kkkkk-40\n",
      "first-39\n",
      "much-39\n",
      "down-38\n",
      "light-38\n",
      "ratte-38\n",
      "\n",
      "Elapsed time =  67.441  ms\n"
     ]
    }
   ],
   "source": [
    "run tf.py"
   ]
  },
  {
   "cell_type": "code",
   "execution_count": null,
   "metadata": {},
   "outputs": [],
   "source": []
  }
 ],
 "metadata": {
  "kernelspec": {
   "display_name": "Python 3",
   "language": "python",
   "name": "python3"
  },
  "language_info": {
   "codemirror_mode": {
    "name": "ipython",
    "version": 3
   },
   "file_extension": ".py",
   "mimetype": "text/x-python",
   "name": "python",
   "nbconvert_exporter": "python",
   "pygments_lexer": "ipython3",
   "version": "3.8.3"
  }
 },
 "nbformat": 4,
 "nbformat_minor": 4
}
